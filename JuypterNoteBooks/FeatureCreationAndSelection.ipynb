{
 "cells": [
  {
   "cell_type": "markdown",
   "source": [
    "Whats new to this notebook? I used a new version from the original dataset, implemented feature engineering and selection, and explored the data with more models."
   ],
   "metadata": {
    "collapsed": false
   }
  },
  {
   "cell_type": "markdown",
   "source": [
    "# Feature Engineering and Selection"
   ],
   "metadata": {
    "collapsed": false
   }
  },
  {
   "cell_type": "markdown",
   "metadata": {},
   "source": [
    "## Imports"
   ]
  },
  {
   "cell_type": "code",
   "execution_count": 47,
   "metadata": {
    "ExecuteTime": {
     "end_time": "2024-01-04T16:53:21.944209700Z",
     "start_time": "2024-01-04T16:53:21.938712600Z"
    }
   },
   "outputs": [],
   "source": [
    "import pandas as pd\n",
    "from sklearn.tree import DecisionTreeClassifier\n",
    "from sklearn.model_selection import train_test_split\n",
    "from matplotlib import pyplot as plt\n",
    "from sklearn.metrics import accuracy_score\n",
    "from sklearn.feature_selection import SelectKBest\n",
    "from sklearn.feature_selection import chi2\n",
    "from sklearn.model_selection import cross_val_score\n",
    "from sklearn.ensemble import RandomForestClassifier\n",
    "from sklearn.ensemble import GradientBoostingClassifier\n",
    "from sklearn.svm import SVC\n",
    "from sklearn.linear_model import LogisticRegression"
   ]
  },
  {
   "cell_type": "markdown",
   "source": [
    "## Import the clean data set"
   ],
   "metadata": {
    "collapsed": false
   }
  },
  {
   "cell_type": "code",
   "outputs": [
    {
     "data": {
      "text/plain": "   index  PatientID   age gender   bmi  bloodpressure diabetic  children  \\\n0      0          1  39.0   male  23.2           91.0      Yes         0   \n1      1          2  24.0   male  30.1           87.0       No         0   \n2      2          3  38.0   male  33.3           82.0      Yes         0   \n3      3          4  38.0   male  33.7           80.0       No         0   \n4      4          5  38.0   male  34.1          100.0       No         0   \n\n  smoker     region    claim  \n0     No  southeast  1121.87  \n1     No  southeast  1131.51  \n2     No  southeast  1135.94  \n3     No  northwest  1136.40  \n4     No  northwest  1137.01  ",
      "text/html": "<div>\n<style scoped>\n    .dataframe tbody tr th:only-of-type {\n        vertical-align: middle;\n    }\n\n    .dataframe tbody tr th {\n        vertical-align: top;\n    }\n\n    .dataframe thead th {\n        text-align: right;\n    }\n</style>\n<table border=\"1\" class=\"dataframe\">\n  <thead>\n    <tr style=\"text-align: right;\">\n      <th></th>\n      <th>index</th>\n      <th>PatientID</th>\n      <th>age</th>\n      <th>gender</th>\n      <th>bmi</th>\n      <th>bloodpressure</th>\n      <th>diabetic</th>\n      <th>children</th>\n      <th>smoker</th>\n      <th>region</th>\n      <th>claim</th>\n    </tr>\n  </thead>\n  <tbody>\n    <tr>\n      <th>0</th>\n      <td>0</td>\n      <td>1</td>\n      <td>39.0</td>\n      <td>male</td>\n      <td>23.2</td>\n      <td>91.0</td>\n      <td>Yes</td>\n      <td>0</td>\n      <td>No</td>\n      <td>southeast</td>\n      <td>1121.87</td>\n    </tr>\n    <tr>\n      <th>1</th>\n      <td>1</td>\n      <td>2</td>\n      <td>24.0</td>\n      <td>male</td>\n      <td>30.1</td>\n      <td>87.0</td>\n      <td>No</td>\n      <td>0</td>\n      <td>No</td>\n      <td>southeast</td>\n      <td>1131.51</td>\n    </tr>\n    <tr>\n      <th>2</th>\n      <td>2</td>\n      <td>3</td>\n      <td>38.0</td>\n      <td>male</td>\n      <td>33.3</td>\n      <td>82.0</td>\n      <td>Yes</td>\n      <td>0</td>\n      <td>No</td>\n      <td>southeast</td>\n      <td>1135.94</td>\n    </tr>\n    <tr>\n      <th>3</th>\n      <td>3</td>\n      <td>4</td>\n      <td>38.0</td>\n      <td>male</td>\n      <td>33.7</td>\n      <td>80.0</td>\n      <td>No</td>\n      <td>0</td>\n      <td>No</td>\n      <td>northwest</td>\n      <td>1136.40</td>\n    </tr>\n    <tr>\n      <th>4</th>\n      <td>4</td>\n      <td>5</td>\n      <td>38.0</td>\n      <td>male</td>\n      <td>34.1</td>\n      <td>100.0</td>\n      <td>No</td>\n      <td>0</td>\n      <td>No</td>\n      <td>northwest</td>\n      <td>1137.01</td>\n    </tr>\n  </tbody>\n</table>\n</div>"
     },
     "execution_count": 48,
     "metadata": {},
     "output_type": "execute_result"
    }
   ],
   "source": [
    "df = pd.read_csv('../Resources/Clean_Insurance_Data.csv', decimal='.', delimiter=',')\n",
    "df.head()"
   ],
   "metadata": {
    "collapsed": false,
    "ExecuteTime": {
     "end_time": "2024-01-04T16:53:23.684884500Z",
     "start_time": "2024-01-04T16:53:23.658752500Z"
    }
   },
   "execution_count": 48
  },
  {
   "cell_type": "markdown",
   "metadata": {},
   "source": [
    "# Feature Creation\n",
    "Feature engineering is crucial for machine learning models. Here, one-hot encoding is applied to the *diabetic*, *smoker*, and *gender* columns, transforming categorical data into a binary format suitable for model input."
   ]
  },
  {
   "cell_type": "code",
   "execution_count": 49,
   "metadata": {
    "ExecuteTime": {
     "end_time": "2024-01-04T16:53:26.647518500Z",
     "start_time": "2024-01-04T16:53:26.628230400Z"
    }
   },
   "outputs": [
    {
     "data": {
      "text/plain": "    age  gender   bmi  bloodpressure  diabetic  children  smoker\n0  39.0       1  23.2             91         1         0       0\n1  24.0       1  30.1             87         0         0       0\n2  38.0       1  33.3             82         1         0       0\n3  38.0       1  33.7             80         0         0       0\n4  38.0       1  34.1            100         0         0       0",
      "text/html": "<div>\n<style scoped>\n    .dataframe tbody tr th:only-of-type {\n        vertical-align: middle;\n    }\n\n    .dataframe tbody tr th {\n        vertical-align: top;\n    }\n\n    .dataframe thead th {\n        text-align: right;\n    }\n</style>\n<table border=\"1\" class=\"dataframe\">\n  <thead>\n    <tr style=\"text-align: right;\">\n      <th></th>\n      <th>age</th>\n      <th>gender</th>\n      <th>bmi</th>\n      <th>bloodpressure</th>\n      <th>diabetic</th>\n      <th>children</th>\n      <th>smoker</th>\n    </tr>\n  </thead>\n  <tbody>\n    <tr>\n      <th>0</th>\n      <td>39.0</td>\n      <td>1</td>\n      <td>23.2</td>\n      <td>91</td>\n      <td>1</td>\n      <td>0</td>\n      <td>0</td>\n    </tr>\n    <tr>\n      <th>1</th>\n      <td>24.0</td>\n      <td>1</td>\n      <td>30.1</td>\n      <td>87</td>\n      <td>0</td>\n      <td>0</td>\n      <td>0</td>\n    </tr>\n    <tr>\n      <th>2</th>\n      <td>38.0</td>\n      <td>1</td>\n      <td>33.3</td>\n      <td>82</td>\n      <td>1</td>\n      <td>0</td>\n      <td>0</td>\n    </tr>\n    <tr>\n      <th>3</th>\n      <td>38.0</td>\n      <td>1</td>\n      <td>33.7</td>\n      <td>80</td>\n      <td>0</td>\n      <td>0</td>\n      <td>0</td>\n    </tr>\n    <tr>\n      <th>4</th>\n      <td>38.0</td>\n      <td>1</td>\n      <td>34.1</td>\n      <td>100</td>\n      <td>0</td>\n      <td>0</td>\n      <td>0</td>\n    </tr>\n  </tbody>\n</table>\n</div>"
     },
     "execution_count": 49,
     "metadata": {},
     "output_type": "execute_result"
    }
   ],
   "source": [
    "# irrelevant features\n",
    "df = df.drop(['claim', 'PatientID', 'index', 'region'], axis=1) \n",
    "\n",
    "df['diabetic'] = df['diabetic'].map({'Yes': 1, 'No': 0})  \n",
    "df['gender'] = df['gender'].map({'male': 1, 'female': 0}) \n",
    "df['smoker'] = df['smoker'].map({'No': 0, 'Yes': 1})\n",
    "\n",
    "# convert the bloodpressure column to int for future use \n",
    "df['bloodpressure'] = df['bloodpressure'].astype(int)\n",
    "df.head()"
   ]
  },
  {
   "cell_type": "markdown",
   "source": [
    "Save the new data set to a CSV file for use in the next notebook."
   ],
   "metadata": {
    "collapsed": false
   }
  },
  {
   "cell_type": "code",
   "outputs": [],
   "source": [
    "df.to_csv('../Resources/Feature_Engineered_Insurance_Data.csv', index=False)"
   ],
   "metadata": {
    "collapsed": false,
    "ExecuteTime": {
     "end_time": "2024-01-04T16:53:33.761271Z",
     "start_time": "2024-01-04T16:53:33.734025100Z"
    }
   },
   "execution_count": 50
  },
  {
   "cell_type": "markdown",
   "metadata": {},
   "source": [
    "# Feature selection\n",
    "Feature selection is a process where we aim to choose those attributes of the data that contribute most significantly to our prediction variable or output in which we are interested. The benefits of feature selection include simplification of models, faster training times, and avoidance of the curse of dimensionality."
   ]
  },
  {
   "cell_type": "markdown",
   "metadata": {},
   "source": [
    "#### Feature selection using machine-learning"
   ]
  },
  {
   "cell_type": "code",
   "execution_count": 51,
   "metadata": {
    "ExecuteTime": {
     "end_time": "2024-01-04T16:53:35.748444400Z",
     "start_time": "2024-01-04T16:53:35.701915Z"
    }
   },
   "outputs": [
    {
     "data": {
      "text/plain": "    Feature  Importance\n2       bmi    0.445158\n0       age    0.250154\n4  children    0.153433\n3  diabetic    0.087356\n1    gender    0.054606",
      "text/html": "<div>\n<style scoped>\n    .dataframe tbody tr th:only-of-type {\n        vertical-align: middle;\n    }\n\n    .dataframe tbody tr th {\n        vertical-align: top;\n    }\n\n    .dataframe thead th {\n        text-align: right;\n    }\n</style>\n<table border=\"1\" class=\"dataframe\">\n  <thead>\n    <tr style=\"text-align: right;\">\n      <th></th>\n      <th>Feature</th>\n      <th>Importance</th>\n    </tr>\n  </thead>\n  <tbody>\n    <tr>\n      <th>2</th>\n      <td>bmi</td>\n      <td>0.445158</td>\n    </tr>\n    <tr>\n      <th>0</th>\n      <td>age</td>\n      <td>0.250154</td>\n    </tr>\n    <tr>\n      <th>4</th>\n      <td>children</td>\n      <td>0.153433</td>\n    </tr>\n    <tr>\n      <th>3</th>\n      <td>diabetic</td>\n      <td>0.087356</td>\n    </tr>\n    <tr>\n      <th>1</th>\n      <td>gender</td>\n      <td>0.054606</td>\n    </tr>\n  </tbody>\n</table>\n</div>"
     },
     "execution_count": 51,
     "metadata": {},
     "output_type": "execute_result"
    }
   ],
   "source": [
    "X = df.drop('bloodpressure', axis=1)\n",
    "y = df['bloodpressure'] \n",
    "\n",
    "# splitting the dataset\n",
    "X_train, X_test, y_train, y_test = train_test_split(X, y, test_size=0.3, random_state=42)\n",
    "\n",
    "# Training the Decision Tree Classifier\n",
    "clf = DecisionTreeClassifier(random_state=42)\n",
    "clf.fit(X_train, y_train)\n",
    "\n",
    "# Predicting on training and testing data\n",
    "y_train_pred = clf.predict(X_train)\n",
    "y_test_pred = clf.predict(X_test)\n",
    "\n",
    "# Feature Importance\n",
    "feature_importance = clf.feature_importances_\n",
    "features_df = pd.DataFrame({'Feature': X.columns, 'Importance': feature_importance})\n",
    "features_df.sort_values(by='Importance', ascending=False, inplace=True)\n",
    "\n",
    "features_df.head()"
   ]
  },
  {
   "cell_type": "markdown",
   "source": [
    "1. *bmi, 0.445158*: This indicates a moderate positive correlation between the 'bmi' feature and 'bloodpressure'. A higher BMI tends to be associated with higher blood pressure. The correlation coefficient of approximately 0.445 suggests that as BMI increases, blood pressure also tends to increase, but the relationship is not extremely strong.\n",
    "\n",
    "2. *age, 0.250154*: This shows a mild positive correlation between 'age' and 'bloodpressure'. It suggests that blood pressure tends to increase with age, but the relationship is less strong compared to BMI. The correlation coefficient of around 0.25 indicates a weaker, though still present, positive relationship.\n",
    "\n",
    "3. *children, 0.153433*: This coefficient indicates a weak positive correlation between the number of children and blood pressure. It suggests a slight tendency for blood pressure to increase with the number of children, but the relationship is relatively weak.\n",
    "\n",
    "4. *diabetic, 0.087356*: This low positive correlation coefficient implies a very weak relationship between being diabetic and blood pressure. The indication is that diabetics might have slightly higher blood pressure on average, but the correlation is too weak to draw strong conclusions.\n",
    "\n",
    "5. *gender, 0.054606*: This very low positive correlation suggests almost no linear relationship between gender and blood pressure. The value indicates that gender has little to no direct linear effect on blood pressure in this dataset."
   ],
   "metadata": {
    "collapsed": false
   }
  },
  {
   "cell_type": "markdown",
   "metadata": {},
   "source": []
  },
  {
   "cell_type": "markdown",
   "metadata": {},
   "source": [
    "#### Feature selection using a correlation matrix"
   ]
  },
  {
   "cell_type": "code",
   "execution_count": 52,
   "metadata": {
    "ExecuteTime": {
     "end_time": "2024-01-04T16:53:39.407281300Z",
     "start_time": "2024-01-04T16:53:39.251024300Z"
    }
   },
   "outputs": [
    {
     "data": {
      "text/plain": "<Figure size 1200x600 with 1 Axes>",
      "image/png": "[encoded data removed]"
     },
     "metadata": {},
     "output_type": "display_data"
    }
   ],
   "source": [
    "correlation_matrix = df.corr()\n",
    "correlation = correlation_matrix['bloodpressure'].sort_values(ascending=False)\n",
    "plt.figure(figsize=(12, 6))\n",
    "correlation.drop('bloodpressure').plot(kind='bar')\n",
    "plt.xlabel('Features')\n",
    "plt.ylabel('Correlation Coefficient')\n",
    "plt.xticks(rotation=45)\n",
    "plt.grid(axis='y')\n",
    "plt.show()  "
   ]
  },
  {
   "cell_type": "markdown",
   "metadata": {},
   "source": [
    "1. *Smoker, 0.400758*: This shows a moderate positive correlation with the outcome. It suggests that being a smoker is associated with an increase in the outcome measure. The value indicates a significant relationship, though not extremely strong.\n",
    "\n",
    "2. *BMI, 0.140428*: This indicates a mild positive correlation between BMI and the outcome. It suggests that higher BMI is somewhat associated with an increase in the outcome, but the relationship is relatively weaker compared to smoking status.\n",
    "\n",
    "3. *Gender, 0.011389*: This very low correlation suggests almost no linear relationship between gender and the outcome. Gender has a negligible direct effect on this outcome in this dataset.\n",
    "\n",
    "4. *Diabetic, -0.019231*: This low negative correlation implies a very weak inverse relationship between being diabetic and the outcome. It indicates that diabetics might have a slightly lower measure of the outcome, but the correlation is too weak to draw significant conclusions.\n",
    "\n",
    "5. *Children, -0.029470*: This indicates a weak negative correlation. It suggests a slight tendency for the outcome to decrease with an increasing number of children, but the relationship is quite weak.\n",
    "\n",
    "6. *Age, -0.071712*: This is a weak negative correlation, indicating that older individuals might have a slightly lower measure of the outcome. However, the relationship is not strong.  \n",
    "\n",
    "**Important Note:** Correlation does not imply causation. High correlation means there is a linear relationship, but it doesn’t necessarily mean that one feature causes the other to change."
   ]
  },
  {
   "cell_type": "markdown",
   "source": [
    "## Feature selection using statistical tests\n",
    " \n",
    "I'll use statistical tests (this notebook uses chi-squared) to select features with the strongest relationship with the output variable. This method helps in understanding which features have the most significant impact on the prediction."
   ],
   "metadata": {
    "collapsed": false
   }
  },
  {
   "cell_type": "code",
   "outputs": [
    {
     "data": {
      "text/plain": "    feature       score\n5    smoker  287.813124\n0       age  158.086850\n2       bmi   68.292760\n4  children   31.321816\n3  diabetic   21.919681\n1    gender   19.282881",
      "text/html": "<div>\n<style scoped>\n    .dataframe tbody tr th:only-of-type {\n        vertical-align: middle;\n    }\n\n    .dataframe tbody tr th {\n        vertical-align: top;\n    }\n\n    .dataframe thead th {\n        text-align: right;\n    }\n</style>\n<table border=\"1\" class=\"dataframe\">\n  <thead>\n    <tr style=\"text-align: right;\">\n      <th></th>\n      <th>feature</th>\n      <th>score</th>\n    </tr>\n  </thead>\n  <tbody>\n    <tr>\n      <th>5</th>\n      <td>smoker</td>\n      <td>287.813124</td>\n    </tr>\n    <tr>\n      <th>0</th>\n      <td>age</td>\n      <td>158.086850</td>\n    </tr>\n    <tr>\n      <th>2</th>\n      <td>bmi</td>\n      <td>68.292760</td>\n    </tr>\n    <tr>\n      <th>4</th>\n      <td>children</td>\n      <td>31.321816</td>\n    </tr>\n    <tr>\n      <th>3</th>\n      <td>diabetic</td>\n      <td>21.919681</td>\n    </tr>\n    <tr>\n      <th>1</th>\n      <td>gender</td>\n      <td>19.282881</td>\n    </tr>\n  </tbody>\n</table>\n</div>"
     },
     "execution_count": 53,
     "metadata": {},
     "output_type": "execute_result"
    }
   ],
   "source": [
    "X = df.drop('bloodpressure', axis=1) \n",
    "y = df['bloodpressure'] \n",
    "chi2_selector = SelectKBest(chi2, k='all') \n",
    "X_kbest = chi2_selector.fit_transform(X, y)\n",
    "chi2_scores = pd.DataFrame(list(zip(X.columns, chi2_selector.scores_)), columns=['feature', 'score'])\n",
    "chi2_scores = chi2_scores.sort_values(by='score', ascending=False)\n",
    "chi2_scores"
   ],
   "metadata": {
    "collapsed": false,
    "ExecuteTime": {
     "end_time": "2024-01-04T16:53:43.623313300Z",
     "start_time": "2024-01-04T16:53:43.590302Z"
    }
   },
   "execution_count": 53
  },
  {
   "cell_type": "markdown",
   "source": [
    "1. *Smoker (287.813124)*: This is the highest score among the features, indicating that 'smoker' is the most significant predictor in the model. Its high score suggests that whether a person is a smoker or not plays a crucial role in determining the outcome.\n",
    "\n",
    "2. *Age (158.086850)*: The second-highest score, for 'age', implies that this feature is also a strong predictor, but less so than 'smoker'. Age has a substantial impact on the model's predictions.\n",
    "\n",
    "3. *BMI (68.292760)*: This score for 'bmi' shows it's a moderately important feature in the model. It has a significant but lesser influence compared to 'smoker' and 'age'.\n",
    "\n",
    "4. *Children (31.321816)*: The number of children has a lower score, suggesting it's a less significant predictor in the model compared to the above features. It plays a role but is not a primary factor.\n",
    "\n",
    "5. *Diabetic (21.919681)*: This has a lower importance score, indicating that being diabetic has some influence on the model's prediction but is not among the top factors.\n",
    "\n",
    "6. *Gender (19.282881)*: Gender has the lowest score among the features listed, suggesting it has the least influence on the model's predictions in this context."
   ],
   "metadata": {
    "collapsed": false
   }
  },
  {
   "cell_type": "markdown",
   "source": [
    "## Top 3 most relevant features in correlation to the target variable\n",
    "\n",
    "- **Smoker**: It has the highest feature importance score in the third set and the highest positive correlation in the first set, indicating a strong and consistent influence on blood pressure.\n",
    "\n",
    "- **BMI**: BMI appears in the top three across all sets - it has a moderate to high correlation with blood pressure in both the first and second sets and a significant feature importance score in the third set.\n",
    "\n",
    "- **Age**: Age also consistently appears as a significant factor. It has a moderate positive correlation in the second set and a substantial feature importance score in the third set."
   ],
   "metadata": {
    "collapsed": false
   }
  },
  {
   "cell_type": "markdown",
   "metadata": {},
   "source": [
    "## Variance\n",
    "\n",
    "Variance analysis helps in understanding the spread of the data. It is crucial for identifying features with high variance, which are often more informative for models.\n",
    "\n",
    "- High variance in continuous variables like age, BMI, and blood pressure suggests a wide range of these features in your dataset, which can be significant for understanding the dataset's diversity.\n",
    "- For binary variables like gender, diabetic, and smoker, the variance can give you an idea about the distribution balance between the two categories."
   ]
  },
  {
   "cell_type": "code",
   "execution_count": 54,
   "metadata": {
    "ExecuteTime": {
     "end_time": "2024-01-04T16:53:47.968813400Z",
     "start_time": "2024-01-04T16:53:47.930882Z"
    }
   },
   "outputs": [
    {
     "data": {
      "text/plain": "age              122.814617\ngender             0.250151\nbmi               36.801863\nbloodpressure     96.737064\ndiabetic           0.249750\nchildren           1.452830\nsmoker             0.162788\ndtype: float64"
     },
     "execution_count": 54,
     "metadata": {},
     "output_type": "execute_result"
    }
   ],
   "source": [
    "variances = df.var() \n",
    "variances"
   ]
  },
  {
   "cell_type": "markdown",
   "metadata": {},
   "source": [
    "## Bias\n",
    " A model with high bias pays very little attention to the training data and oversimplifies the model (underfitting). This isn't directly calculated from the data but is inferred from the model's performance metrics (like accuracy, precision, recall, etc.) on both training and validation/test datasets."
   ]
  },
  {
   "cell_type": "code",
   "execution_count": 55,
   "metadata": {
    "ExecuteTime": {
     "end_time": "2024-01-04T16:53:50.472566800Z",
     "start_time": "2024-01-04T16:53:50.458889700Z"
    }
   },
   "outputs": [
    {
     "name": "stdout",
     "output_type": "stream",
     "text": [
      "\n",
      "Training Accuracy: 0.9968017057569296\n",
      "Test Accuracy: 0.0472636815920398\n"
     ]
    }
   ],
   "source": [
    "train_accuracy = accuracy_score(y_train, y_train_pred)\n",
    "test_accuracy = accuracy_score(y_test, y_test_pred)\n",
    "\n",
    "print(f\"\\nTraining Accuracy: {train_accuracy}\")\n",
    "print(f\"Test Accuracy: {test_accuracy}\")"
   ]
  },
  {
   "cell_type": "markdown",
   "source": [
    "The accuracy scores show a significant disparity between the training accuracy and the test accuracy. This discrepancy suggests a few key issues with the model:\n",
    "\n",
    "- **Overfitting**: The primary concern here is overfitting. The model performs extremely well on the training data, achieving nearly 100% accuracy. However, its performance drastically drops on the test data. This indicates that the model has learned the training data too well, including its noise and specific details, to the extent that it fails to generalize to new, unseen data.\n",
    "\n",
    "- **Generalization Issue**: The low test accuracy suggests that the model is not generalizing well to new data. This is a critical issue in machine learning, where the primary goal is to build models that perform well on unseen data.\n",
    "\n",
    "- **Model Complexity**: Overfitting often occurs with overly complex models in relation to the amount of data or noise in the training set. If your model has too many parameters or if it's too complex, it might end up 'memorizing' the training data rather than learning the underlying patterns."
   ],
   "metadata": {
    "collapsed": false
   }
  },
  {
   "cell_type": "markdown",
   "source": [
    "## Exploring with more models"
   ],
   "metadata": {
    "collapsed": false
   }
  },
  {
   "cell_type": "code",
   "outputs": [
    {
     "name": "stdout",
     "output_type": "stream",
     "text": [
      "Training Accuracy: 0.15884861407249468\n",
      "Test Accuracy: 0.04477611940298507\n"
     ]
    }
   ],
   "source": [
    "clf = DecisionTreeClassifier(random_state=42, max_depth=5, min_samples_leaf=5)\n",
    "clf.fit(X_train, y_train)\n",
    "\n",
    "y_train_pred = clf.predict(X_train)\n",
    "y_test_pred = clf.predict(X_test)\n",
    "\n",
    "# Recalculating accuracies\n",
    "train_accuracy = accuracy_score(y_train, y_train_pred)\n",
    "test_accuracy = accuracy_score(y_test, y_test_pred)\n",
    "\n",
    "print(f\"Training Accuracy: {train_accuracy}\")\n",
    "print(f\"Test Accuracy: {test_accuracy}\")"
   ],
   "metadata": {
    "collapsed": false,
    "ExecuteTime": {
     "end_time": "2024-01-04T16:53:52.815953Z",
     "start_time": "2024-01-04T16:53:52.790702900Z"
    }
   },
   "execution_count": 56
  },
  {
   "cell_type": "markdown",
   "source": [
    "Next we'll use k-fold cross-validation which is a good choice for enhancing the robustness of model evaluation. In k-fold cross-validation, the dataset is divided into k equal-sized subsets or 'folds'. The model is then trained on k-1 folds and tested on the remaining fold. This process is repeated k times, each time with a different fold used as the test set. The results are then averaged to produce a single estimation."
   ],
   "metadata": {
    "collapsed": false
   }
  },
  {
   "cell_type": "code",
   "outputs": [
    {
     "name": "stderr",
     "output_type": "stream",
     "text": [
      "C:\\Users\\bogda\\AppData\\Local\\Programs\\Python\\Python311\\Lib\\site-packages\\sklearn\\model_selection\\_split.py:737: UserWarning: The least populated class in y has only 1 members, which is less than n_splits=5.\n",
      "  warnings.warn(\n"
     ]
    },
    {
     "name": "stdout",
     "output_type": "stream",
     "text": [
      "Accuracy per fold:  [0.03358209 0.05223881 0.04104478 0.07835821 0.05597015]\n",
      "Average accuracy:  0.05223880597014926\n",
      "Standard deviation:  0.01529395636710388\n"
     ]
    }
   ],
   "source": [
    "model = RandomForestClassifier(n_estimators=100, random_state=42)\n",
    "scores = cross_val_score(model, X, y, cv=5)\n",
    "print(\"Accuracy per fold: \", scores)\n",
    "print(\"Average accuracy: \", scores.mean())\n",
    "print(\"Standard deviation: \", scores.std())"
   ],
   "metadata": {
    "collapsed": false,
    "ExecuteTime": {
     "end_time": "2024-01-04T16:53:59.288540800Z",
     "start_time": "2024-01-04T16:53:54.900308100Z"
    }
   },
   "execution_count": 57
  },
  {
   "cell_type": "markdown",
   "source": [
    "The results from the k-fold cross-validation indicate an average accuracy of about 5.22% with a standard deviation of approximately 1.53%.\n",
    "\n",
    "- Low Average Accuracy: An average accuracy of 5.22% is quite low, suggesting that the model is not performing well on this task. This could be due to several reasons, such as the model not being well-suited to the data, the features not being informative enough, or the data itself being too complex or noisy for the model to make accurate predictions.\n",
    "\n",
    "- Standard Deviation: The standard deviation of about 1.53% indicates that the model's performance varies somewhat across different folds. While not excessively high, this variation does suggest that the model's performance is not very consistent across different subsets of your data."
   ],
   "metadata": {
    "collapsed": false
   }
  },
  {
   "cell_type": "markdown",
   "source": [
    "#### Logistic Regression"
   ],
   "metadata": {
    "collapsed": false
   }
  },
  {
   "cell_type": "code",
   "outputs": [
    {
     "name": "stdout",
     "output_type": "stream",
     "text": [
      "Logistic Regression Accuracy: 0.06716417910447761\n"
     ]
    },
    {
     "name": "stderr",
     "output_type": "stream",
     "text": [
      "C:\\Users\\bogda\\AppData\\Local\\Programs\\Python\\Python311\\Lib\\site-packages\\sklearn\\linear_model\\_logistic.py:460: ConvergenceWarning: lbfgs failed to converge (status=1):\n",
      "STOP: TOTAL NO. of ITERATIONS REACHED LIMIT.\n",
      "\n",
      "Increase the number of iterations (max_iter) or scale the data as shown in:\n",
      "    https://scikit-learn.org/stable/modules/preprocessing.html\n",
      "Please also refer to the documentation for alternative solver options:\n",
      "    https://scikit-learn.org/stable/modules/linear_model.html#logistic-regression\n",
      "  n_iter_i = _check_optimize_result(\n"
     ]
    }
   ],
   "source": [
    "logistic_model = LogisticRegression(random_state=42) \n",
    "\n",
    "logistic_model.fit(X_train, y_train)\n",
    " \n",
    "logistic_accuracy = logistic_model.score(X_test, y_test)\n",
    "print(f\"Logistic Regression Accuracy: {logistic_accuracy}\")\n"
   ],
   "metadata": {
    "collapsed": false,
    "ExecuteTime": {
     "end_time": "2024-01-04T16:54:06.839439900Z",
     "start_time": "2024-01-04T16:54:06.394367400Z"
    }
   },
   "execution_count": 58
  },
  {
   "cell_type": "markdown",
   "source": [
    "#### Support Vector Machine"
   ],
   "metadata": {
    "collapsed": false
   }
  },
  {
   "cell_type": "code",
   "outputs": [
    {
     "name": "stdout",
     "output_type": "stream",
     "text": [
      "SVM Accuracy: 0.05472636815920398\n"
     ]
    }
   ],
   "source": [
    "svm_model = SVC(random_state=42)\n",
    " \n",
    "svm_model.fit(X_train, y_train)\n",
    " \n",
    "svm_accuracy = svm_model.score(X_test, y_test)\n",
    "print(f\"SVM Accuracy: {svm_accuracy}\")\n"
   ],
   "metadata": {
    "collapsed": false,
    "ExecuteTime": {
     "end_time": "2024-01-04T16:54:10.205790500Z",
     "start_time": "2024-01-04T16:54:09.685246Z"
    }
   },
   "execution_count": 59
  },
  {
   "cell_type": "markdown",
   "source": [
    "#### Gradient Boosting Classifier"
   ],
   "metadata": {
    "collapsed": false
   }
  },
  {
   "cell_type": "code",
   "outputs": [
    {
     "name": "stdout",
     "output_type": "stream",
     "text": [
      "Gradient Boosting Classifier Accuracy: 0.05223880597014925\n"
     ]
    }
   ],
   "source": [
    "gbm_model = GradientBoostingClassifier(random_state=42)\n",
    "\n",
    "gbm_model.fit(X_train, y_train)\n",
    "\n",
    "gbm_accuracy = gbm_model.score(X_test, y_test)\n",
    "print(f\"Gradient Boosting Classifier Accuracy: {gbm_accuracy}\")\n"
   ],
   "metadata": {
    "collapsed": false,
    "ExecuteTime": {
     "end_time": "2024-01-04T16:54:22.427472500Z",
     "start_time": "2024-01-04T16:54:12.282673800Z"
    }
   },
   "execution_count": 60
  },
  {
   "cell_type": "markdown",
   "source": [
    "Considering this, I'll try to improve the model's performance by reducing its complexity. I'll do this by tuning the hyperparameters of the Logistic Regression in the next notebook."
   ],
   "metadata": {
    "collapsed": false
   }
  }
 ],
 "metadata": {
  "language_info": {
   "name": "python"
  },
  "kernelspec": {
   "name": "python3",
   "language": "python",
   "display_name": "Python 3 (ipykernel)"
  }
 },
 "nbformat": 4,
 "nbformat_minor": 2
}
